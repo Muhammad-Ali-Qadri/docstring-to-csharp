{
 "cells": [
  {
   "cell_type": "code",
   "execution_count": null,
   "metadata": {
    "collapsed": true
   },
   "outputs": [],
   "source": [
    "%load_ext autoreload\n",
    "%autoreload 2\n",
    "from transformers import AutoModel\n",
    "import torch\n",
    "\n",
    "import pandas as pd\n",
    "import numpy as np\n",
    "\n",
    "import sys\n",
    "import os\n",
    "\n",
    "module_path = os.path.abspath(os.path.join('..'))\n",
    "if module_path not in sys.path:\n",
    "    sys.path.append(module_path+\"\\\\py_scripts\")\n",
    "    sys.path.append(module_path+\"\\\\py_scripts\\\\codeXGLUE_code-to-text\")\n",
    "\n",
    "from transformers import RobertaTokenizer, T5ForConditionalGeneration\n",
    "\n",
    "import torch\n",
    "import torchvision as thv\n",
    "from torchvision.utils import make_grid\n",
    "from torch.utils.data import DataLoader, Dataset\n",
    "import torch.utils.data as data_utils\n",
    "import torch.nn as nn\n",
    "\n",
    "from tqdm import tqdm\n",
    "\n",
    "from helper import get_j_c_data_loaders, to_device, get_device, plot_data\n"
   ]
  },
  {
   "cell_type": "code",
   "execution_count": null,
   "metadata": {
    "collapsed": false,
    "pycharm": {
     "name": "#%%\n"
    }
   },
   "outputs": [],
   "source": [
    "# GLOBALS\n",
    "device = get_device()\n",
    "BEAM_SIZE = 10\n",
    "MAX_SEQ_LEN = 200\n",
    "SOURCE_LEN = 200\n",
    "LEARNING_RATE = 5e-5\n",
    "EPOCHS = 1\n",
    "BATCH_SIZE = 10 # change depending on the GPU Colab gives you\n",
    "\n",
    "torch.cuda.empty_cache()"
   ]
  },
  {
   "cell_type": "code",
   "execution_count": null,
   "metadata": {
    "collapsed": false,
    "pycharm": {
     "name": "#%%\n"
    }
   },
   "outputs": [],
   "source": [
    "token = RobertaTokenizer.from_pretrained(\"Salesforce/codet5-small\")\n",
    "train_dl , valid_dl, test_dl = get_j_c_data_loaders(BATCH_SIZE, token)"
   ]
  },
  {
   "cell_type": "code",
   "execution_count": null,
   "metadata": {
    "collapsed": false,
    "pycharm": {
     "name": "#%%\n"
    }
   },
   "outputs": [],
   "source": [
    "class SeqSeqModel(torch.nn.Module):\n",
    "    def __init__(self, seq_len, tokenizer, doc_tokenizer):\n",
    "        super(SeqSeqModel, self).__init__()\n",
    "        self.tokenizer = tokenizer\n",
    "        self.doc_tokenizer = doc_tokenizer\n",
    "        self.seq_len = seq_len\n",
    "        self.model_to_doc = T5ForConditionalGeneration.from_pretrained(\"Salesforce/codet5-small\")\n",
    "        self.model_to_code = T5ForConditionalGeneration.from_pretrained(\"Salesforce/codet5-small\")\n",
    "\n",
    "    def get_text_embedding(self, input_ids):\n",
    "        \n",
    "        dict_embed = {\n",
    "            \"ids\":  [],\n",
    "            \"mask\": []\n",
    "        }\n",
    "        \n",
    "        for doc in self.generate_doc(input_ids):\n",
    "            text = self.doc_tokenizer.tokenize(doc)\n",
    "            if(len(text) != 0):\n",
    "                input = self.doc_tokenizer.encode_plus(\n",
    "                    text,\n",
    "                    None,\n",
    "                    add_special_tokens=True,\n",
    "                    max_length=self.seq_len,\n",
    "                    padding='max_length',\n",
    "                    return_token_type_ids=True,\n",
    "                    truncation=True\n",
    "                )\n",
    "\n",
    "                dict_embed['ids'] += [input['input_ids']]\n",
    "                dict_embed['mask'] += [input['attention_mask']]\n",
    "            else:\n",
    "                dict_embed['ids'] += [np.zeros(self.seq_len, dtype=np.int_)]\n",
    "                dict_embed['mask'] += [np.zeros(self.seq_len, dtype=np.int_)]\n",
    "\n",
    "        dict_embed['ids'] = torch.tensor(np.array(dict_embed['ids']) , dtype=torch.long).to(device)\n",
    "        dict_embed['mask'] = torch.tensor(np.array(dict_embed['mask']) , dtype=torch.long).to(device)\n",
    "        return dict_embed\n",
    "\n",
    "    def forward(self, input_ids, attention_mask, labels):\n",
    "        doc_out = self.model_to_doc(input_ids=input_ids, attention_mask=attention_mask, decoder_input_ids=input_ids)\n",
    "        doc_embedding = self.get_text_embedding(input_ids)\n",
    "        \n",
    "        code_out = self.model_to_code(input_ids=doc_embedding['ids']\n",
    "        , attention_mask=doc_embedding['mask']\n",
    "        , encoder_outputs=doc_out.decoder_attentions\n",
    "        , labels=labels)\n",
    "\n",
    "        return code_out.loss\n",
    "\n",
    "    \n",
    "    def generate_doc(self, input_ids, attention_mask=None):\n",
    "        gen = self.model_to_doc.generate(input_ids, max_length=self.seq_len, attention_mask=attention_mask)\n",
    "        return [self.tokenizer.decode(entry, skip_special_tokens=True) for entry in gen]\n",
    "\n",
    "    def generate_code(self, input_ids, attention_mask=None):\n",
    "        gen = self.model_to_code.generate(input_ids, max_length=self.seq_len, attention_mask=attention_mask)\n",
    "        return self.tokenizer.decode(gen, skip_special_tokens=True)"
   ]
  },
  {
   "cell_type": "code",
   "execution_count": null,
   "metadata": {},
   "outputs": [],
   "source": [
    "@torch.no_grad()\n",
    "def validate(model, val_load):\n",
    "    outputs = [model(batch).detach().cpu() for batch in val_load]\n",
    "    return np.average(outputs)"
   ]
  },
  {
   "cell_type": "code",
   "execution_count": null,
   "metadata": {},
   "outputs": [],
   "source": [
    "def train(clf, opt, dl, val):\n",
    "    local_loss = []\n",
    "    val_loss = []\n",
    "    for _ in range(EPOCHS):\n",
    "        for i, data in tqdm(enumerate(dl)):\n",
    "            mod_out = clf(data['j_ids'], data['j_mask'], data['j_ids'])\n",
    "            clf.zero_grad()\n",
    "            local_loss.append(mod_out.detach().cpu())\n",
    "            mod_out.backward()\n",
    "            opt.step()\n",
    "\n",
    "            if i % 100 == 0 and i != 0:\n",
    "                val_loss.append(validate(clf, val) )\n",
    "    \n",
    "    return local_loss, val_loss\n",
    "        "
   ]
  },
  {
   "cell_type": "code",
   "execution_count": null,
   "metadata": {},
   "outputs": [],
   "source": [
    "model = to_device(SeqSeqModel(MAX_SEQ_LEN, token, token), device)\n",
    "rob_optimizer = torch.optim.Adam(model.parameters(), lr = LEARNING_RATE)"
   ]
  },
  {
   "cell_type": "code",
   "execution_count": null,
   "metadata": {},
   "outputs": [],
   "source": [
    "loss_arr, val_arr = train(model, rob_optimizer, train_dl, valid_dl)"
   ]
  },
  {
   "cell_type": "code",
   "execution_count": null,
   "metadata": {},
   "outputs": [],
   "source": [
    "plot_data((loss_arr, val_arr ), ('training loss', 'validation loss'), (len(loss_arr), len(valid_dl)  ), 'epochs' , 'loss' , 'loss/epoch' )"
   ]
  },
  {
   "cell_type": "code",
   "execution_count": null,
   "metadata": {},
   "outputs": [],
   "source": [
    "def sample(clf, dl):\n",
    "    for _ in range(EPOCHS):\n",
    "        for data in tqdm(dl):\n",
    "            with torch.no_grad():\n",
    "                mod_out = clf.generate_doc(data['j_ids'], data['j_mask'])\n",
    "                print(\"jdoc: \" , data['j_doc'])\n",
    "                print(\"mod_out: \" , mod_out)\n",
    "                break\n",
    "        break"
   ]
  },
  {
   "cell_type": "code",
   "execution_count": null,
   "metadata": {},
   "outputs": [],
   "source": [
    "sample(model, train_dl)"
   ]
  }
 ],
 "metadata": {
  "interpreter": {
   "hash": "5e8dcd70b06f2553967794e4283512109d907da5bdd97f7d6f12e6f54bb057a4"
  },
  "kernelspec": {
   "display_name": "Python 3.10.4 64-bit",
   "language": "python",
   "name": "python3"
  },
  "language_info": {
   "codemirror_mode": {
    "name": "ipython",
    "version": 3
   },
   "file_extension": ".py",
   "mimetype": "text/x-python",
   "name": "python",
   "nbconvert_exporter": "python",
   "pygments_lexer": "ipython3",
   "version": "3.10.4"
  }
 },
 "nbformat": 4,
 "nbformat_minor": 0
}
