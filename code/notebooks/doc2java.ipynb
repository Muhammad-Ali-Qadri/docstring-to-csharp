{
 "cells": [
  {
   "cell_type": "code",
   "execution_count": 1,
   "id": "e26e4cb8-be8c-4e27-ad33-a9b421e8f2cd",
   "metadata": {},
   "outputs": [],
   "source": [
    "%load_ext autoreload\n",
    "%autoreload 2\n",
    "\n",
    "import pandas as pd\n",
    "import numpy as np\n",
    "\n",
    "from transformers import RobertaTokenizer, T5ForConditionalGeneration\n",
    "\n",
    "import torch\n",
    "\n",
    "from tqdm import tqdm\n",
    "\n",
    "from helper import get_d_j_c_data_loaders, to_device, get_device, plot_data\n",
    "\n",
    "from pathlib import Path\n"
   ]
  },
  {
   "cell_type": "markdown",
   "id": "b304d53d-2390-48de-91b3-d444aac1b3b2",
   "metadata": {},
   "source": [
    "## Initialize globals and model"
   ]
  },
  {
   "cell_type": "code",
   "execution_count": 16,
   "id": "03d4a453-4bf9-4f86-821e-aa780e756e6b",
   "metadata": {},
   "outputs": [],
   "source": [
    "# GLOBALS\n",
    "device = get_device()\n",
    "BEAM_SIZE = 3\n",
    "MAX_SEQ_LEN = 256\n",
    "SOURCE_LEN = 256\n",
    "LEARNING_RATE = 5e-5\n",
    "EPOCHS = 20\n",
    "BATCH_SIZE = 64 # change depending on the GPU Colab gives you\n",
    "VAL_STEP = 20\n",
    "\n",
    "PRETRAINED_MODEL_PATH = \"../../models/doc2java/\"\n",
    "NEW_MODEL_PATH = \"../../models/new_trained/doc2java/\"\n",
    "Path(NEW_MODEL_PATH).mkdir(parents=True, exist_ok=True)\n",
    "\n",
    "torch.cuda.empty_cache()"
   ]
  },
  {
   "cell_type": "code",
   "execution_count": 17,
   "id": "8deb1a16-a407-4374-b614-2cb11ad32ccd",
   "metadata": {},
   "outputs": [],
   "source": [
    "token = RobertaTokenizer.from_pretrained(\"Salesforce/codet5-base\")\n",
    "train_dl , valid_dl, test_dl = get_d_j_c_data_loaders(BATCH_SIZE, token)"
   ]
  },
  {
   "cell_type": "code",
   "execution_count": 18,
   "id": "b8950497-d24e-4594-b0f7-2546ce9d0619",
   "metadata": {},
   "outputs": [],
   "source": [
    "class DocToJavaModel(torch.nn.Module):\n",
    "    def __init__(self, tokenizer, model_path, seq_len, beam_size):\n",
    "        super(DocToJavaModel, self).__init__()\n",
    "        self.tokenizer = tokenizer\n",
    "        self.beam_size = beam_size\n",
    "        self.seq_len = seq_len\n",
    "        self.doc_to_java = T5ForConditionalGeneration.from_pretrained(model_path)\n",
    "\n",
    "    def forward(self, input_ids, attention_mask, labels):\n",
    "        doc_out = self.doc_to_java(input_ids=input_ids, attention_mask=attention_mask, labels=labels)\n",
    "        return doc_out.loss\n",
    "\n",
    "    def generate_code(self, input_ids):\n",
    "        gen = self.doc_to_java.generate(input_ids, max_length=self.seq_len, num_beams=self.beam_size)\n",
    "        return [self.tokenizer.decode(entry, skip_special_tokens=True) for entry in gen]\n",
    "    \n",
    "    def save(self, path):\n",
    "        torch.save(self.state_dict(), path + \"DocToJavaModel.pkl\")\n",
    "        self.doc_to_java.save_pretrained(path)"
   ]
  },
  {
   "cell_type": "markdown",
   "id": "1893513c-f4b0-44ac-89d4-90d517536647",
   "metadata": {},
   "source": [
    "## Train and validate model"
   ]
  },
  {
   "cell_type": "code",
   "execution_count": 19,
   "id": "235fec29-a26d-4119-887b-4067ea6d191d",
   "metadata": {},
   "outputs": [],
   "source": [
    "@torch.no_grad()\n",
    "def validate(model, val_load):\n",
    "    outputs = [model(batch['doc_ids'], batch['doc_mask'], batch['j_ids']).detach().cpu() for batch in val_load]\n",
    "    return np.average(outputs)"
   ]
  },
  {
   "cell_type": "code",
   "execution_count": 20,
   "id": "04072446-cf11-4db0-9ed0-85f895b2b7ef",
   "metadata": {},
   "outputs": [],
   "source": [
    "def train(clf, opt, dl, val, val_step):\n",
    "    local_loss = []\n",
    "    val_loss = []\n",
    "    for _ in tqdm(range(EPOCHS)):\n",
    "        for i, data in enumerate(dl):\n",
    "            mod_out = clf(data['doc_ids'], data['doc_mask'], data['j_ids'])\n",
    "            local_loss.append(mod_out.detach().cpu())\n",
    "            \n",
    "            clf.zero_grad()\n",
    "            mod_out.backward()\n",
    "            opt.step()\n",
    "\n",
    "            if i % val_step == 0 and i != 0:\n",
    "                val_loss.append(validate(clf, val))\n",
    "        \n",
    "        print(f\"Average Training loss = {np.average(local_loss)}\")\n",
    "        print(f\"Average Validation loss = {np.average(val_loss)}\")\n",
    "        \n",
    "    return local_loss, val_loss"
   ]
  },
  {
   "cell_type": "code",
   "execution_count": 21,
   "id": "ee40409c-76aa-4963-b685-413f16f1befa",
   "metadata": {},
   "outputs": [],
   "source": [
    "model = to_device(DocToJavaModel(token, PRETRAINED_MODEL_PATH, MAX_SEQ_LEN, BEAM_SIZE), device)\n",
    "rob_optimizer = torch.optim.Adam(model.parameters(), lr = LEARNING_RATE)"
   ]
  },
  {
   "cell_type": "code",
   "execution_count": 22,
   "id": "10e4b8ed-b366-41e1-bff7-9d0b9c84527a",
   "metadata": {},
   "outputs": [
    {
     "name": "stderr",
     "output_type": "stream",
     "text": [
      "  5%|▌         | 1/20 [01:32<29:23, 92.83s/it]"
     ]
    },
    {
     "name": "stdout",
     "output_type": "stream",
     "text": [
      "Average Training loss = 0.5014855861663818\n",
      "Average Validation loss = 0.41296789050102234\n"
     ]
    },
    {
     "name": "stderr",
     "output_type": "stream",
     "text": [
      " 10%|█         | 2/20 [02:55<26:04, 86.93s/it]"
     ]
    },
    {
     "name": "stdout",
     "output_type": "stream",
     "text": [
      "Average Training loss = 0.39412927627563477\n",
      "Average Validation loss = 0.35715991258621216\n"
     ]
    },
    {
     "name": "stderr",
     "output_type": "stream",
     "text": [
      " 15%|█▌        | 3/20 [04:18<24:07, 85.15s/it]"
     ]
    },
    {
     "name": "stdout",
     "output_type": "stream",
     "text": [
      "Average Training loss = 0.3381462097167969\n",
      "Average Validation loss = 0.3267807066440582\n"
     ]
    },
    {
     "name": "stderr",
     "output_type": "stream",
     "text": [
      " 20%|██        | 4/20 [05:41<22:28, 84.30s/it]"
     ]
    },
    {
     "name": "stdout",
     "output_type": "stream",
     "text": [
      "Average Training loss = 0.2981089949607849\n",
      "Average Validation loss = 0.3071773946285248\n"
     ]
    },
    {
     "name": "stderr",
     "output_type": "stream",
     "text": [
      " 25%|██▌       | 5/20 [07:04<20:57, 83.86s/it]"
     ]
    },
    {
     "name": "stdout",
     "output_type": "stream",
     "text": [
      "Average Training loss = 0.26557719707489014\n",
      "Average Validation loss = 0.2938079237937927\n"
     ]
    },
    {
     "name": "stderr",
     "output_type": "stream",
     "text": [
      " 30%|███       | 6/20 [08:27<19:29, 83.54s/it]"
     ]
    },
    {
     "name": "stdout",
     "output_type": "stream",
     "text": [
      "Average Training loss = 0.23771367967128754\n",
      "Average Validation loss = 0.28456178307533264\n"
     ]
    },
    {
     "name": "stderr",
     "output_type": "stream",
     "text": [
      " 35%|███▌      | 7/20 [09:50<18:04, 83.42s/it]"
     ]
    },
    {
     "name": "stdout",
     "output_type": "stream",
     "text": [
      "Average Training loss = 0.21344870328903198\n",
      "Average Validation loss = 0.2782759368419647\n"
     ]
    },
    {
     "name": "stderr",
     "output_type": "stream",
     "text": [
      " 40%|████      | 8/20 [11:13<16:40, 83.34s/it]"
     ]
    },
    {
     "name": "stdout",
     "output_type": "stream",
     "text": [
      "Average Training loss = 0.1924610286951065\n",
      "Average Validation loss = 0.27424317598342896\n"
     ]
    },
    {
     "name": "stderr",
     "output_type": "stream",
     "text": [
      " 45%|████▌     | 9/20 [12:37<15:16, 83.29s/it]"
     ]
    },
    {
     "name": "stdout",
     "output_type": "stream",
     "text": [
      "Average Training loss = 0.1744554042816162\n",
      "Average Validation loss = 0.27181175351142883\n"
     ]
    },
    {
     "name": "stderr",
     "output_type": "stream",
     "text": [
      " 50%|█████     | 10/20 [14:00<13:52, 83.23s/it]"
     ]
    },
    {
     "name": "stdout",
     "output_type": "stream",
     "text": [
      "Average Training loss = 0.15923847258090973\n",
      "Average Validation loss = 0.27041903138160706\n"
     ]
    },
    {
     "name": "stderr",
     "output_type": "stream",
     "text": [
      " 55%|█████▌    | 11/20 [15:23<12:28, 83.15s/it]"
     ]
    },
    {
     "name": "stdout",
     "output_type": "stream",
     "text": [
      "Average Training loss = 0.14639051258563995\n",
      "Average Validation loss = 0.2694757282733917\n"
     ]
    },
    {
     "name": "stderr",
     "output_type": "stream",
     "text": [
      " 60%|██████    | 12/20 [16:46<11:04, 83.10s/it]"
     ]
    },
    {
     "name": "stdout",
     "output_type": "stream",
     "text": [
      "Average Training loss = 0.1353355050086975\n",
      "Average Validation loss = 0.2689671516418457\n"
     ]
    },
    {
     "name": "stderr",
     "output_type": "stream",
     "text": [
      " 65%|██████▌   | 13/20 [18:09<09:41, 83.09s/it]"
     ]
    },
    {
     "name": "stdout",
     "output_type": "stream",
     "text": [
      "Average Training loss = 0.12569698691368103\n",
      "Average Validation loss = 0.2686084508895874\n"
     ]
    },
    {
     "name": "stderr",
     "output_type": "stream",
     "text": [
      " 70%|███████   | 14/20 [19:32<08:18, 83.13s/it]"
     ]
    },
    {
     "name": "stdout",
     "output_type": "stream",
     "text": [
      "Average Training loss = 0.11725948750972748\n",
      "Average Validation loss = 0.26851147413253784\n"
     ]
    },
    {
     "name": "stderr",
     "output_type": "stream",
     "text": [
      " 75%|███████▌  | 15/20 [20:55<06:55, 83.12s/it]"
     ]
    },
    {
     "name": "stdout",
     "output_type": "stream",
     "text": [
      "Average Training loss = 0.10985849052667618\n",
      "Average Validation loss = 0.26865145564079285\n"
     ]
    },
    {
     "name": "stderr",
     "output_type": "stream",
     "text": [
      " 80%|████████  | 16/20 [22:18<05:32, 83.12s/it]"
     ]
    },
    {
     "name": "stdout",
     "output_type": "stream",
     "text": [
      "Average Training loss = 0.10332699865102768\n",
      "Average Validation loss = 0.2689470052719116\n"
     ]
    },
    {
     "name": "stderr",
     "output_type": "stream",
     "text": [
      " 85%|████████▌ | 17/20 [23:41<04:09, 83.09s/it]"
     ]
    },
    {
     "name": "stdout",
     "output_type": "stream",
     "text": [
      "Average Training loss = 0.0975302904844284\n",
      "Average Validation loss = 0.26934173703193665\n"
     ]
    },
    {
     "name": "stderr",
     "output_type": "stream",
     "text": [
      " 90%|█████████ | 18/20 [25:04<02:46, 83.09s/it]"
     ]
    },
    {
     "name": "stdout",
     "output_type": "stream",
     "text": [
      "Average Training loss = 0.09235591441392899\n",
      "Average Validation loss = 0.269808828830719\n"
     ]
    },
    {
     "name": "stderr",
     "output_type": "stream",
     "text": [
      " 95%|█████████▌| 19/20 [26:27<01:22, 82.99s/it]"
     ]
    },
    {
     "name": "stdout",
     "output_type": "stream",
     "text": [
      "Average Training loss = 0.08770931512117386\n",
      "Average Validation loss = 0.27041465044021606\n"
     ]
    },
    {
     "name": "stderr",
     "output_type": "stream",
     "text": [
      "100%|██████████| 20/20 [27:50<00:00, 83.51s/it]"
     ]
    },
    {
     "name": "stdout",
     "output_type": "stream",
     "text": [
      "Average Training loss = 0.08351550251245499\n",
      "Average Validation loss = 0.2710678279399872\n"
     ]
    },
    {
     "name": "stderr",
     "output_type": "stream",
     "text": [
      "\n"
     ]
    }
   ],
   "source": [
    "t_loss, v_loss = train(model, rob_optimizer, train_dl, valid_dl, VAL_STEP)"
   ]
  },
  {
   "cell_type": "markdown",
   "id": "68aab38e-8cda-401c-999d-fc94283d7be5",
   "metadata": {},
   "source": [
    "## Save Model"
   ]
  },
  {
   "cell_type": "code",
   "execution_count": 9,
   "id": "5bdc1419-4e39-4964-9c71-b0ca446b8a43",
   "metadata": {},
   "outputs": [],
   "source": [
    "model.save(NEW_MODEL_PATH)"
   ]
  },
  {
   "cell_type": "code",
   "execution_count": 23,
   "id": "60002bf3-810c-4c3c-a0bb-a2927161406a",
   "metadata": {},
   "outputs": [
    {
     "name": "stdout",
     "output_type": "stream",
     "text": [
      "Ls:  3220\n",
      "Ls:  160\n"
     ]
    },
    {
     "data": {
      "image/png": "[encoded data removed]",
      "text/plain": [
       "<Figure size 864x432 with 1 Axes>"
      ]
     },
     "metadata": {
      "needs_background": "light"
     },
     "output_type": "display_data"
    }
   ],
   "source": [
    "plot_data((t_loss, v_loss ), ('training loss', 'validation loss'), (len(t_loss), len(v_loss) )  , (1, VAL_STEP) , 'updates' , 'loss' , 'Doc To Java loss/epoch')"
   ]
  },
  {
   "cell_type": "code",
   "execution_count": 11,
   "id": "516da425-e331-4692-a5ff-3cc00d5fc4d1",
   "metadata": {},
   "outputs": [],
   "source": [
    "@torch.no_grad()\n",
    "def sample(clf, dl):\n",
    "    sent_data = []\n",
    "    for data in tqdm(dl):\n",
    "        with torch.no_grad():\n",
    "            sent_data += clf.generate_code(data['doc_ids'])\n",
    "        \n",
    "    return sent_data"
   ]
  },
  {
   "cell_type": "code",
   "execution_count": 12,
   "id": "2de744a8-0083-4311-a975-6731592f47a1",
   "metadata": {},
   "outputs": [
    {
     "name": "stderr",
     "output_type": "stream",
     "text": [
      "100%|██████████| 161/161 [30:35<00:00, 11.40s/it]\n",
      "100%|██████████| 8/8 [01:12<00:00,  9.12s/it]\n",
      "100%|██████████| 16/16 [03:15<00:00, 12.22s/it]\n"
     ]
    }
   ],
   "source": [
    "doc_data = [sample(model, dl) for dl in (train_dl, valid_dl, test_dl)]"
   ]
  },
  {
   "cell_type": "code",
   "execution_count": 13,
   "id": "a1835899-9ce0-43a0-8540-5c7614640268",
   "metadata": {},
   "outputs": [],
   "source": [
    "dataset_path = \"../../datasets/\"\n",
    "\n",
    "for name, d_data in zip(('train.new.java', 'valid.new.java' , 'test.new.java'), tuple(doc_data)):\n",
    "    with open(dataset_path + name, 'w') as f:\n",
    "        for item in d_data:\n",
    "            f.write(\"%s\\n\" % item)"
   ]
  }
 ],
 "metadata": {
  "interpreter": {
   "hash": "639d276c247c8a52e19cde5e255d9e2ff4699e2778f913634b69753ef67a8943"
  },
  "kernelspec": {
   "display_name": "Python 3.8.5 ('fastai')",
   "language": "python",
   "name": "python3"
  },
  "language_info": {
   "codemirror_mode": {
    "name": "ipython",
    "version": 3
   },
   "file_extension": ".py",
   "mimetype": "text/x-python",
   "name": "python",
   "nbconvert_exporter": "python",
   "pygments_lexer": "ipython3",
   "version": "3.8.5"
  }
 },
 "nbformat": 4,
 "nbformat_minor": 5
}
