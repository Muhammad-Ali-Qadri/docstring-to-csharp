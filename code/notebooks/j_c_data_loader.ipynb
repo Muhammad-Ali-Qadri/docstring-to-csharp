{
 "cells": [
  {
   "cell_type": "markdown",
   "metadata": {},
   "source": [
    "# Create Tensor Dataset to load JAVA-C# Pair data"
   ]
  },
  {
   "cell_type": "code",
   "execution_count": 49,
   "metadata": {},
   "outputs": [
    {
     "name": "stdout",
     "output_type": "stream",
     "text": [
      "The autoreload extension is already loaded. To reload it, use:\n",
      "  %reload_ext autoreload\n"
     ]
    }
   ],
   "source": [
    "%load_ext autoreload\n",
    "%autoreload 2\n",
    "\n",
    "import sys\n",
    "import os\n",
    "\n",
    "module_path = os.path.abspath(os.path.join('..'))\n",
    "if module_path not in sys.path:\n",
    "    sys.path.append(module_path+\"\\\\py_scripts\")\n",
    "\n",
    "import numpy as np\n",
    "import pandas as pd\n",
    "\n",
    "from helper import to_device, get_device, get_j_c_data_loaders\n",
    "from JCDataSet import JCDataSet\n",
    "\n",
    "from transformers import RobertaTokenizer, RobertaModel\n",
    "\n",
    "import torch\n",
    "import torchvision as thv\n",
    "from torchvision.utils import make_grid\n",
    "from torch.utils.data import DataLoader, Dataset\n",
    "import torch.utils.data as data_utils"
   ]
  },
  {
   "cell_type": "code",
   "execution_count": 40,
   "metadata": {},
   "outputs": [],
   "source": [
    "# GLOBALS\n",
    "device = get_device()\n",
    "\n",
    "BATCH_SIZE = 8\n"
   ]
  },
  {
   "cell_type": "markdown",
   "metadata": {},
   "source": [
    "### Get Data from dataset and load into respective dataframes"
   ]
  },
  {
   "cell_type": "code",
   "execution_count": 41,
   "metadata": {},
   "outputs": [
    {
     "data": {
      "text/html": [
       "<div>\n",
       "<style scoped>\n",
       "    .dataframe tbody tr th:only-of-type {\n",
       "        vertical-align: middle;\n",
       "    }\n",
       "\n",
       "    .dataframe tbody tr th {\n",
       "        vertical-align: top;\n",
       "    }\n",
       "\n",
       "    .dataframe thead th {\n",
       "        text-align: right;\n",
       "    }\n",
       "</style>\n",
       "<table border=\"1\" class=\"dataframe\">\n",
       "  <thead>\n",
       "    <tr style=\"text-align: right;\">\n",
       "      <th></th>\n",
       "      <th>cs_code</th>\n",
       "      <th>j_code</th>\n",
       "    </tr>\n",
       "  </thead>\n",
       "  <tbody>\n",
       "    <tr>\n",
       "      <th>0</th>\n",
       "      <td>public virtual ListSpeechSynthesisTasksRespons...</td>\n",
       "      <td>public ListSpeechSynthesisTasksResult listSpee...</td>\n",
       "    </tr>\n",
       "    <tr>\n",
       "      <th>1</th>\n",
       "      <td>public virtual UpdateJourneyStateResponse Upda...</td>\n",
       "      <td>public UpdateJourneyStateResult updateJourneyS...</td>\n",
       "    </tr>\n",
       "    <tr>\n",
       "      <th>2</th>\n",
       "      <td>public void RemovePresentationFormat(){Mutable...</td>\n",
       "      <td>public void removePresentationFormat() {remove...</td>\n",
       "    </tr>\n",
       "    <tr>\n",
       "      <th>3</th>\n",
       "      <td>public CellRangeAddressList(int firstRow, int ...</td>\n",
       "      <td>public CellRangeAddressList(int firstRow, int ...</td>\n",
       "    </tr>\n",
       "    <tr>\n",
       "      <th>4</th>\n",
       "      <td>public virtual void delete(int key){int i = bi...</td>\n",
       "      <td>public void delete(int key) {int i = binarySea...</td>\n",
       "    </tr>\n",
       "  </tbody>\n",
       "</table>\n",
       "</div>"
      ],
      "text/plain": [
       "                                             cs_code  \\\n",
       "0  public virtual ListSpeechSynthesisTasksRespons...   \n",
       "1  public virtual UpdateJourneyStateResponse Upda...   \n",
       "2  public void RemovePresentationFormat(){Mutable...   \n",
       "3  public CellRangeAddressList(int firstRow, int ...   \n",
       "4  public virtual void delete(int key){int i = bi...   \n",
       "\n",
       "                                              j_code  \n",
       "0  public ListSpeechSynthesisTasksResult listSpee...  \n",
       "1  public UpdateJourneyStateResult updateJourneyS...  \n",
       "2  public void removePresentationFormat() {remove...  \n",
       "3  public CellRangeAddressList(int firstRow, int ...  \n",
       "4  public void delete(int key) {int i = binarySea...  "
      ]
     },
     "execution_count": 41,
     "metadata": {},
     "output_type": "execute_result"
    }
   ],
   "source": [
    "train_df = pd.concat([pd.read_csv('../../datasets/train.java-cs.txt.cs', delimiter='\\n', names=['cs_code']), \n",
    "pd.read_csv('../../datasets/train.java-cs.txt.java', delimiter='\\n', names=['j_code'])], axis=1)\n",
    "\n",
    "valid_df = pd.concat([pd.read_csv('../../datasets/valid.java-cs.txt.cs', delimiter='\\n', names=['cs_code']),\n",
    "pd.read_csv('../../datasets/valid.java-cs.txt.java', delimiter='\\n', names=['j_code'])], axis=1)\n",
    "\n",
    "test_df = pd.concat([pd.read_csv('../../datasets/test.java-cs.txt.cs', delimiter='\\n', names=['cs_code']), \n",
    "pd.read_csv('../../datasets/test.java-cs.txt.java', delimiter='\\n', names=['j_code'])], axis=1)\n",
    "\n",
    "train_df.head()"
   ]
  },
  {
   "cell_type": "code",
   "execution_count": 42,
   "metadata": {},
   "outputs": [
    {
     "data": {
      "text/html": [
       "<div>\n",
       "<style scoped>\n",
       "    .dataframe tbody tr th:only-of-type {\n",
       "        vertical-align: middle;\n",
       "    }\n",
       "\n",
       "    .dataframe tbody tr th {\n",
       "        vertical-align: top;\n",
       "    }\n",
       "\n",
       "    .dataframe thead th {\n",
       "        text-align: right;\n",
       "    }\n",
       "</style>\n",
       "<table border=\"1\" class=\"dataframe\">\n",
       "  <thead>\n",
       "    <tr style=\"text-align: right;\">\n",
       "      <th></th>\n",
       "      <th>cs_train_tokens</th>\n",
       "      <th>j_train_tokens</th>\n",
       "    </tr>\n",
       "  </thead>\n",
       "  <tbody>\n",
       "    <tr>\n",
       "      <th>0</th>\n",
       "      <td>[public, Ġvirtual, ĠList, Spe, ech, Sy, nt, he...</td>\n",
       "      <td>[public, ĠList, Spe, ech, Sy, nt, hesis, T, as...</td>\n",
       "    </tr>\n",
       "    <tr>\n",
       "      <th>1</th>\n",
       "      <td>[public, Ġvirtual, ĠUpdate, J, ourney, State, ...</td>\n",
       "      <td>[public, ĠUpdate, J, ourney, State, Result, Ġu...</td>\n",
       "    </tr>\n",
       "    <tr>\n",
       "      <th>2</th>\n",
       "      <td>[public, Ġvoid, ĠRemove, Present, ation, Forma...</td>\n",
       "      <td>[public, Ġvoid, Ġremove, Present, ation, Forma...</td>\n",
       "    </tr>\n",
       "    <tr>\n",
       "      <th>3</th>\n",
       "      <td>[public, ĠCell, Range, Address, List, (, int, ...</td>\n",
       "      <td>[public, ĠCell, Range, Address, List, (, int, ...</td>\n",
       "    </tr>\n",
       "    <tr>\n",
       "      <th>4</th>\n",
       "      <td>[public, Ġvirtual, Ġvoid, Ġdelete, (, int, Ġke...</td>\n",
       "      <td>[public, Ġvoid, Ġdelete, (, int, Ġkey, ), Ġ{, ...</td>\n",
       "    </tr>\n",
       "    <tr>\n",
       "      <th>...</th>\n",
       "      <td>...</td>\n",
       "      <td>...</td>\n",
       "    </tr>\n",
       "    <tr>\n",
       "      <th>10290</th>\n",
       "      <td>[public, Ġvirtual, ĠDelete, Ad, m, Channel, Re...</td>\n",
       "      <td>[public, ĠDelete, Ad, m, Channel, Result, Ġdel...</td>\n",
       "    </tr>\n",
       "    <tr>\n",
       "      <th>10291</th>\n",
       "      <td>[public, ĠSet, Sub, scription, Attributes, Req...</td>\n",
       "      <td>[public, ĠSet, Sub, scription, Attributes, Req...</td>\n",
       "    </tr>\n",
       "    <tr>\n",
       "      <th>10292</th>\n",
       "      <td>[public, Ġvirtual, Ġvoid, ĠUn, safe, Write, (,...</td>\n",
       "      <td>[public, Ġvoid, Ġunsafe, Write, (, char, Ġb, )...</td>\n",
       "    </tr>\n",
       "    <tr>\n",
       "      <th>10293</th>\n",
       "      <td>[public, Ġoverride, Ġbool, Ġremove, (, object,...</td>\n",
       "      <td>[@, Override, Ġpublic, Ġboolean, Ġremove, (, O...</td>\n",
       "    </tr>\n",
       "    <tr>\n",
       "      <th>10294</th>\n",
       "      <td>[public, Ġvirtual, Ġbool, Ġmark, Supported, ()...</td>\n",
       "      <td>[public, Ġboolean, Ġmark, Supported, (), Ġ{, r...</td>\n",
       "    </tr>\n",
       "  </tbody>\n",
       "</table>\n",
       "<p>10295 rows × 2 columns</p>\n",
       "</div>"
      ],
      "text/plain": [
       "                                         cs_train_tokens  \\\n",
       "0      [public, Ġvirtual, ĠList, Spe, ech, Sy, nt, he...   \n",
       "1      [public, Ġvirtual, ĠUpdate, J, ourney, State, ...   \n",
       "2      [public, Ġvoid, ĠRemove, Present, ation, Forma...   \n",
       "3      [public, ĠCell, Range, Address, List, (, int, ...   \n",
       "4      [public, Ġvirtual, Ġvoid, Ġdelete, (, int, Ġke...   \n",
       "...                                                  ...   \n",
       "10290  [public, Ġvirtual, ĠDelete, Ad, m, Channel, Re...   \n",
       "10291  [public, ĠSet, Sub, scription, Attributes, Req...   \n",
       "10292  [public, Ġvirtual, Ġvoid, ĠUn, safe, Write, (,...   \n",
       "10293  [public, Ġoverride, Ġbool, Ġremove, (, object,...   \n",
       "10294  [public, Ġvirtual, Ġbool, Ġmark, Supported, ()...   \n",
       "\n",
       "                                          j_train_tokens  \n",
       "0      [public, ĠList, Spe, ech, Sy, nt, hesis, T, as...  \n",
       "1      [public, ĠUpdate, J, ourney, State, Result, Ġu...  \n",
       "2      [public, Ġvoid, Ġremove, Present, ation, Forma...  \n",
       "3      [public, ĠCell, Range, Address, List, (, int, ...  \n",
       "4      [public, Ġvoid, Ġdelete, (, int, Ġkey, ), Ġ{, ...  \n",
       "...                                                  ...  \n",
       "10290  [public, ĠDelete, Ad, m, Channel, Result, Ġdel...  \n",
       "10291  [public, ĠSet, Sub, scription, Attributes, Req...  \n",
       "10292  [public, Ġvoid, Ġunsafe, Write, (, char, Ġb, )...  \n",
       "10293  [@, Override, Ġpublic, Ġboolean, Ġremove, (, O...  \n",
       "10294  [public, Ġboolean, Ġmark, Supported, (), Ġ{, r...  \n",
       "\n",
       "[10295 rows x 2 columns]"
      ]
     },
     "execution_count": 42,
     "metadata": {},
     "output_type": "execute_result"
    }
   ],
   "source": [
    "code_tokenizer = to_device(RobertaTokenizer.from_pretrained(\"Salesforce/codet5-base-multi-sum\"), device)\n",
    "\n",
    "token_df = pd.DataFrame()\n",
    "token_df['cs_train_tokens'] = train_df['cs_code'].apply(lambda x: code_tokenizer.tokenize(x)).apply(len)\n",
    "token_df['j_train_tokens'] = train_df['j_code'].apply(lambda x: code_tokenizer.tokenize(x)).apply(len)"
   ]
  },
  {
   "cell_type": "code",
   "execution_count": 43,
   "metadata": {},
   "outputs": [
    {
     "name": "stdout",
     "output_type": "stream",
     "text": [
      "The 97th quantile on the dataset: 190.09000000000015 Which will be adjusted to 200\n"
     ]
    }
   ],
   "source": [
    "token_count = np.average([np.quantile(token_df[col].to_list(), .98) for col in token_df.columns])\n",
    "print(\"The 98th quantile on the dataset:\", token_count, \"Which will be adjusted to 200\")\n",
    "MAX_SEQ_LEN = 200"
   ]
  },
  {
   "cell_type": "code",
   "execution_count": 46,
   "metadata": {},
   "outputs": [],
   "source": [
    "training_set = JCDataSet(train_df, code_tokenizer, MAX_SEQ_LEN)\n",
    "validation_set = JCDataSet(valid_df, code_tokenizer, MAX_SEQ_LEN)\n",
    "testing_set = JCDataSet(test_df, code_tokenizer, MAX_SEQ_LEN)\n",
    "\n",
    "train_dl = DataLoader(training_set, BATCH_SIZE, num_workers=0, pin_memory=True, shuffle=True)\n",
    "val_dl = DataLoader(validation_set, BATCH_SIZE, num_workers=0, pin_memory=True)\n",
    "test_dl = DataLoader(testing_set, BATCH_SIZE, num_workers=0, pin_memory=True)\n",
    "\n",
    "train_dl = to_device(train_dl, device)\n",
    "val_dl = to_device(val_dl, device)\n",
    "test_dl = to_device(test_dl, device)"
   ]
  }
 ],
 "metadata": {
  "interpreter": {
   "hash": "11938c6bc6919ae2720b4d5011047913343b08a43b18698fd82dedb0d4417594"
  },
  "kernelspec": {
   "display_name": "Python 3.9.6 64-bit",
   "language": "python",
   "name": "python3"
  },
  "language_info": {
   "codemirror_mode": {
    "name": "ipython",
    "version": 3
   },
   "file_extension": ".py",
   "mimetype": "text/x-python",
   "name": "python",
   "nbconvert_exporter": "python",
   "pygments_lexer": "ipython3",
   "version": "3.9.6"
  },
  "orig_nbformat": 4
 },
 "nbformat": 4,
 "nbformat_minor": 2
}
