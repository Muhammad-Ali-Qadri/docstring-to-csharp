{
 "cells": [
  {
   "cell_type": "code",
   "execution_count": 1,
   "id": "cce33e16-f9fc-428b-9c75-3720067aa5c5",
   "metadata": {},
   "outputs": [],
   "source": [
    "%load_ext autoreload\n",
    "%autoreload 2\n",
    "\n",
    "import pandas as pd\n",
    "import numpy as np\n",
    "\n",
    "from transformers import RobertaTokenizer, T5ForConditionalGeneration\n",
    "\n",
    "import torch\n",
    "\n",
    "from tqdm import tqdm\n",
    "\n",
    "from helper import get_d_j_c_data_loaders, to_device, get_device, plot_data\n",
    "\n",
    "from pathlib import Path\n"
   ]
  },
  {
   "cell_type": "markdown",
   "id": "3b0a2d50",
   "metadata": {},
   "source": [
    "## Initialize Globals and Model"
   ]
  },
  {
   "cell_type": "code",
   "execution_count": 2,
   "id": "35782d49-ab50-420f-9811-613c93c7dd90",
   "metadata": {},
   "outputs": [],
   "source": [
    "# GLOBALS\n",
    "device = get_device()\n",
    "BEAM_SIZE = 3\n",
    "MAX_SEQ_LEN = 256\n",
    "SOURCE_LEN = 256\n",
    "LEARNING_RATE = 5e-5\n",
    "EPOCHS = 5\n",
    "BATCH_SIZE = 64 # change depending on the GPU Colab gives you\n",
    "VAL_STEP = 20\n",
    "\n",
    "PRETRAINED_MODEL_PATH = \"../../models/java2cs/\"\n",
    "NEW_MODEL_PATH = \"../../models/new_trained/java2cs/\"\n",
    "Path(NEW_MODEL_PATH).mkdir(parents=True, exist_ok=True)\n",
    "\n",
    "dataset_path = \"../../datasets/\"\n",
    "\n",
    "torch.cuda.empty_cache()"
   ]
  },
  {
   "cell_type": "code",
   "execution_count": 3,
   "id": "180c3246-72ee-411c-b1b3-ca8b9de15588",
   "metadata": {},
   "outputs": [],
   "source": [
    "token = RobertaTokenizer.from_pretrained(\"Salesforce/codet5-base\")\n",
    "train_dl , valid_dl, test_dl = get_d_j_c_data_loaders(BATCH_SIZE, token\n",
    ", training_name='train.new.java'\n",
    ", validation_name='valid.new.java'\n",
    ", testing_name='test.new.java'\n",
    ", shuffle_train_val=True)"
   ]
  },
  {
   "cell_type": "code",
   "execution_count": 4,
   "id": "298a65fb-acfa-4be5-8074-f9c3c92d3f33",
   "metadata": {},
   "outputs": [],
   "source": [
    "class JavaToCSModel(torch.nn.Module):\n",
    "    def __init__(self, tokenizer, model_path, seq_len):\n",
    "        super(JavaToCSModel, self).__init__()\n",
    "        self.tokenizer = tokenizer\n",
    "        self.seq_len = seq_len\n",
    "        self.java_to_cs = T5ForConditionalGeneration.from_pretrained(model_path)\n",
    "\n",
    "    def forward(self, input_ids, attention_mask, labels):\n",
    "        doc_out = self.java_to_cs(input_ids=input_ids, attention_mask=attention_mask, labels=labels)\n",
    "        return doc_out.loss\n",
    "\n",
    "    def generate_code(self, input_ids):\n",
    "        gen = self.java_to_cs.generate(input_ids, max_length=self.seq_len)\n",
    "        return [self.tokenizer.decode(entry, skip_special_tokens=True) for entry in gen]\n",
    "    \n",
    "    def save(self, path):\n",
    "        torch.save(self.state_dict(), path + \"JavaToCSModel.pkl\")\n",
    "        self.java_to_cs.save_pretrained(path)"
   ]
  },
  {
   "cell_type": "markdown",
   "id": "820e1f71",
   "metadata": {},
   "source": [
    "## Train and validation model"
   ]
  },
  {
   "cell_type": "code",
   "execution_count": 5,
   "id": "6e5d4d73",
   "metadata": {},
   "outputs": [],
   "source": [
    "@torch.no_grad()\n",
    "def validate(model, val_load):\n",
    "    outputs = [model(batch['j_ids'], batch['j_mask'], batch['cs_ids']).detach().cpu() for batch in val_load]\n",
    "    return np.average(outputs)"
   ]
  },
  {
   "cell_type": "code",
   "execution_count": 6,
   "id": "4b5a3434",
   "metadata": {},
   "outputs": [],
   "source": [
    "def train(clf, opt, dl, val, val_step):\n",
    "    local_loss = []\n",
    "    val_loss = []\n",
    "    for _ in tqdm(range(EPOCHS)):\n",
    "        for i, data in enumerate(dl):\n",
    "            mod_out = clf(data['j_ids'], data['j_mask'], data['cs_ids'])\n",
    "            local_loss.append(mod_out.detach().cpu())\n",
    "            \n",
    "            clf.zero_grad()\n",
    "            mod_out.backward()\n",
    "            opt.step()\n",
    "\n",
    "            if i % val_step == 0 and i != 0:\n",
    "                val_loss.append(validate(clf, val))\n",
    "        \n",
    "        print(f\"Average Training loss = {np.average(local_loss)}\")\n",
    "        print(f\"Average Validation loss = {np.average(val_loss)}\")\n",
    "        \n",
    "    return local_loss, val_loss"
   ]
  },
  {
   "cell_type": "code",
   "execution_count": 7,
   "id": "f04f66be-9efe-4891-821b-e3ec750caf80",
   "metadata": {},
   "outputs": [],
   "source": [
    "model = to_device(JavaToCSModel(token, PRETRAINED_MODEL_PATH, MAX_SEQ_LEN), device)\n",
    "rob_optimizer = torch.optim.Adam(model.parameters(), lr = LEARNING_RATE)"
   ]
  },
  {
   "cell_type": "code",
   "execution_count": 8,
   "id": "c5847363-4359-4276-a72f-d289b27a9730",
   "metadata": {},
   "outputs": [
    {
     "name": "stderr",
     "output_type": "stream",
     "text": [
      " 20%|██        | 1/5 [01:52<07:30, 112.67s/it]"
     ]
    },
    {
     "name": "stdout",
     "output_type": "stream",
     "text": [
      "Average Training loss = 0.04514140263199806\n",
      "Average Validation loss = 0.0527009479701519\n"
     ]
    },
    {
     "name": "stderr",
     "output_type": "stream",
     "text": [
      " 40%|████      | 2/5 [03:35<05:20, 106.74s/it]"
     ]
    },
    {
     "name": "stdout",
     "output_type": "stream",
     "text": [
      "Average Training loss = 0.035611849278211594\n",
      "Average Validation loss = 0.051237545907497406\n"
     ]
    },
    {
     "name": "stderr",
     "output_type": "stream",
     "text": [
      " 60%|██████    | 3/5 [05:17<03:29, 104.65s/it]"
     ]
    },
    {
     "name": "stdout",
     "output_type": "stream",
     "text": [
      "Average Training loss = 0.029053090140223503\n",
      "Average Validation loss = 0.051681388169527054\n"
     ]
    },
    {
     "name": "stderr",
     "output_type": "stream",
     "text": [
      " 80%|████████  | 4/5 [06:59<01:43, 103.71s/it]"
     ]
    },
    {
     "name": "stdout",
     "output_type": "stream",
     "text": [
      "Average Training loss = 0.024338729679584503\n",
      "Average Validation loss = 0.05273972451686859\n"
     ]
    },
    {
     "name": "stderr",
     "output_type": "stream",
     "text": [
      "100%|██████████| 5/5 [08:41<00:00, 104.38s/it]"
     ]
    },
    {
     "name": "stdout",
     "output_type": "stream",
     "text": [
      "Average Training loss = 0.020914359018206596\n",
      "Average Validation loss = 0.05368006229400635\n"
     ]
    },
    {
     "name": "stderr",
     "output_type": "stream",
     "text": [
      "\n"
     ]
    }
   ],
   "source": [
    "t_loss, v_loss = train(model, rob_optimizer, train_dl, valid_dl, VAL_STEP)"
   ]
  },
  {
   "cell_type": "markdown",
   "id": "a14d09f0-5432-4248-ae31-01621a84887b",
   "metadata": {},
   "source": [
    "## Save Model"
   ]
  },
  {
   "cell_type": "code",
   "execution_count": 9,
   "id": "21084c06-936f-4b36-92af-8e38b2f997d4",
   "metadata": {
    "tags": []
   },
   "outputs": [],
   "source": [
    "model.save(NEW_MODEL_PATH)"
   ]
  },
  {
   "cell_type": "code",
   "execution_count": 10,
   "id": "c25a9434-7f29-4bad-bba4-c9cf5e9e3096",
   "metadata": {},
   "outputs": [
    {
     "name": "stdout",
     "output_type": "stream",
     "text": [
      "Ls:  805\n",
      "Ls:  40\n"
     ]
    },
    {
     "data": {
      "image/png": "[encoded data removed]",
      "text/plain": [
       "<Figure size 864x432 with 1 Axes>"
      ]
     },
     "metadata": {
      "needs_background": "light"
     },
     "output_type": "display_data"
    }
   ],
   "source": [
    "plot_data((t_loss, v_loss ), ('training loss', 'validation loss'), (len(t_loss), len(v_loss) )  , (1, VAL_STEP) , 'updates' , 'loss' , 'Java to C# loss/epoch')"
   ]
  },
  {
   "cell_type": "code",
   "execution_count": 11,
   "id": "a3a48043-4891-4153-aeca-4b396387a2ca",
   "metadata": {},
   "outputs": [],
   "source": [
    "@torch.no_grad()\n",
    "def sample(clf, dl):\n",
    "    sent_data = []\n",
    "    for data in tqdm(dl):\n",
    "        with torch.no_grad():\n",
    "            sent_data += clf.generate_code(data['doc_ids'])\n",
    "        \n",
    "    return sent_data"
   ]
  },
  {
   "cell_type": "code",
   "execution_count": 12,
   "id": "cacad48d",
   "metadata": {},
   "outputs": [
    {
     "name": "stderr",
     "output_type": "stream",
     "text": [
      "100%|██████████| 161/161 [14:26<00:00,  5.38s/it]\n",
      "100%|██████████| 8/8 [00:55<00:00,  6.89s/it]\n",
      "100%|██████████| 16/16 [01:41<00:00,  6.33s/it]\n"
     ]
    }
   ],
   "source": [
    "doc_data = [sample(model, dl) for dl in (train_dl, valid_dl, test_dl)]"
   ]
  },
  {
   "cell_type": "code",
   "execution_count": 20,
   "id": "08290537",
   "metadata": {},
   "outputs": [],
   "source": [
    "\n",
    "for name, d_data in zip(('train.new.cs', 'valid.new.cs' , 'test.new.cs'), tuple(doc_data)):\n",
    "    with open(dataset_path + name, 'w') as f:\n",
    "        for item in d_data:\n",
    "            f.write(\"%s\\n\" % item)"
   ]
  },
  {
   "cell_type": "code",
   "execution_count": 50,
   "id": "28c52ce4",
   "metadata": {},
   "outputs": [],
   "source": [
    "# Save shuffled original files\n",
    "def save_shuffled(dl, file_name):\n",
    "    shuffled = []\n",
    "    for d in dl:\n",
    "        shuffled += d['cs_unchanged']\n",
    "\n",
    "    with open(file_name, 'w') as f:\n",
    "        for item in shuffled:\n",
    "            f.write(\"%s\\n\" % item)"
   ]
  },
  {
   "cell_type": "code",
   "execution_count": 51,
   "id": "d1272281",
   "metadata": {},
   "outputs": [],
   "source": [
    "save_shuffled(train_dl, dataset_path + \"train.shuffled.cs\")\n",
    "save_shuffled(valid_dl, dataset_path + \"valid.shuffled.cs\")"
   ]
  }
 ],
 "metadata": {
  "interpreter": {
   "hash": "639d276c247c8a52e19cde5e255d9e2ff4699e2778f913634b69753ef67a8943"
  },
  "kernelspec": {
   "display_name": "Python 3.8.5 ('fastai')",
   "language": "python",
   "name": "python3"
  },
  "language_info": {
   "codemirror_mode": {
    "name": "ipython",
    "version": 3
   },
   "file_extension": ".py",
   "mimetype": "text/x-python",
   "name": "python",
   "nbconvert_exporter": "python",
   "pygments_lexer": "ipython3",
   "version": "3.8.5"
  }
 },
 "nbformat": 4,
 "nbformat_minor": 5
}
