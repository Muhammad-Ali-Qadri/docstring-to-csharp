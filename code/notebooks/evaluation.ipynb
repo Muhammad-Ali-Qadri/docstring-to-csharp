{
 "cells": [
  {
   "cell_type": "code",
   "execution_count": 5,
   "metadata": {},
   "outputs": [
    {
     "name": "stdout",
     "output_type": "stream",
     "text": [
      "The autoreload extension is already loaded. To reload it, use:\n",
      "  %reload_ext autoreload\n"
     ]
    }
   ],
   "source": [
    "%load_ext autoreload\n",
    "%autoreload 2\n",
    "\n",
    "import sys\n",
    "import os\n",
    "import pandas as pd\n",
    "\n",
    "module_path = os.path.abspath(os.path.join('..'))\n",
    "if module_path not in sys.path:\n",
    "    sys.path.append('../../code_t5')\n",
    "from evaluator.bleu import _bleu\n",
    "from evaluator.CodeBLEU.calc_code_bleu import get_codebleu"
   ]
  },
  {
   "cell_type": "code",
   "execution_count": 2,
   "metadata": {},
   "outputs": [],
   "source": [
    "def fetchBLEUscore(ref_path, pred_path):\n",
    "    return _bleu(ref_path, pred_path)"
   ]
  },
  {
   "cell_type": "markdown",
   "metadata": {},
   "source": [
    "#constants definition"
   ]
  },
  {
   "cell_type": "code",
   "execution_count": 3,
   "metadata": {},
   "outputs": [],
   "source": [
    "cs_ref_path = '../../datasets/test.java-cs.txt.cs'\n",
    "cs_pred_path = '../../datasets/test.new.cs'\n",
    "\n",
    "java_ref_path = '../../datasets/test.java-cs.txt.java'\n",
    "java_pred_path = '../../datasets/test.new.java'\n",
    "\n",
    "weights = '0.25, 0.25, 0.25, 0.25'"
   ]
  },
  {
   "cell_type": "code",
   "execution_count": 4,
   "metadata": {},
   "outputs": [
    {
     "name": "stdout",
     "output_type": "stream",
     "text": [
      "ngram match: 0.048563422711344895, weighted ngram match: 0.06410006450650053, syntax_match: 0.21638234230680736, dataflow_match: 0.21439124011471278\n",
      "ngram match: 0.29791952341067146, weighted ngram match: 0.3132561511896136, syntax_match: 0.5503239132475823, dataflow_match: 0.4826336831584208\n",
      "Java bleu:  29.8\n",
      "Java_codebleu:  0.41103331775157204\n"
     ]
    }
   ],
   "source": [
    "cs_bleu = fetchBLEUscore(cs_ref_path,cs_pred_path)\n",
    "cs_codebleu = get_codebleu(cs_ref_path, cs_pred_path, 'c_sharp', weights)\n",
    "\n",
    "java_bleu = fetchBLEUscore(java_ref_path,java_pred_path)\n",
    "java_codebleu = get_codebleu(java_ref_path, java_pred_path, 'java' , weights)"
   ]
  },
  {
   "cell_type": "code",
   "execution_count": null,
   "metadata": {},
   "outputs": [],
   "source": [
    "data = [{'doc2java' : [java_bleu, java_codebleu], 'java2c#' : [cs_bleu, cs_codebleu] } ]"
   ]
  }
 ],
 "metadata": {
  "interpreter": {
   "hash": "5e8dcd70b06f2553967794e4283512109d907da5bdd97f7d6f12e6f54bb057a4"
  },
  "kernelspec": {
   "display_name": "Python 3.10.4 64-bit",
   "language": "python",
   "name": "python3"
  },
  "language_info": {
   "codemirror_mode": {
    "name": "ipython",
    "version": 3
   },
   "file_extension": ".py",
   "mimetype": "text/x-python",
   "name": "python",
   "nbconvert_exporter": "python",
   "pygments_lexer": "ipython3",
   "version": "3.10.4"
  },
  "orig_nbformat": 4
 },
 "nbformat": 4,
 "nbformat_minor": 2
}
